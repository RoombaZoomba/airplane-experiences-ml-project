{
  "cells": [
    {
      "cell_type": "markdown",
      "metadata": {
        "id": "ABNx6MK41-7v"
      },
      "source": [
        "Names: Adrian Gallardo, Nathan Cheng, Carl Song, Raymond Wang\n",
        "\n",
        "\n",
        "---\n",
        "\n"
      ]
    },
    {
      "cell_type": "markdown",
      "metadata": {
        "id": "iphZ-ChonXdI"
      },
      "source": [
        "**Introduction:**\n",
        "\n",
        "This dataset contains 129,880 records of passengers detailing their flight experiences. Such experiences put into consideration for passenger satisfaction are onboard services or inflight experiences. There are 22 features that we looked into to determine customer satisfaction, and these are listed below in the next section.\n",
        "\n",
        "\n",
        "In other words, our goal is to predict passenger satisfaction based on their flight using various features the passengers may have experienced. Because we are working with a labeled dataset, we primarily used supervised learning classifications that lead to a strong and accurate conclusion. That dataset can be found here: https://www.kaggle.com/datasets/johndddddd/customer-satisfaction\n",
        "\n",
        "We believe this problem is relevant as air travel remains to be a convenient transportation option, but we can always aim to improve customer satisfaction. Additionally, airlines are in the business of retaining customers, and in order for this to occur they must have great experiences. While not all customers will be satisfied with everything, we can still apply machine learning to help us learn what factors go into overall customer satisfaction.\n",
        "\n",
        "The results of our predictive model can help airlines see what factors they should focus on during the whole airline experience. (E.g. if they see how low levels of food and drinks can be attributed to a customer being not satisfied, then they can focus on improving food and drinks)\n",
        "\n",
        "**Dataset Areas to Know:**\n",
        "\n",
        "*Class Label:*\n",
        "\n",
        "satisfaction_v2: satisfied or netural/dissatisfied\n",
        "\n",
        "\n",
        "\n",
        "\n",
        "\n",
        "*Features:*\n",
        "\n",
        "Age: The actual age of the passengers\n",
        "\n",
        "Gender: Gender of the passengers (Female, Male)\n",
        "\n",
        "Type of Travel: Purpose of the flight of the passengers (Personal Travel, Business Travel)\n",
        "\n",
        "Class: Travel class in the plane of the passengers (Business, Eco, Eco Plus)\n",
        "\n",
        "Customer Type: The customer type (Loyal customer, disloyal customer)\n",
        "\n",
        "Flight distance: The flight distance of this journey in miles\n",
        "\n",
        "\n",
        "0-5 experience level. 5 being the best and 0 being the worst:\n",
        "\n",
        "Inflight wifi service: Satisfaction level of the inflight wifi service\n",
        "\n",
        "Ease of Online booking: Satisfaction level of online booking\n",
        "\n",
        "Inflight service: Satisfaction level of inflight service\n",
        "\n",
        "Online boarding: Satisfaction level of online boarding\n",
        "\n",
        "Inflight entertainment: Satisfaction level of inflight entertainment\n",
        "\n",
        "Food and drink: Satisfaction level of Food and drink\n",
        "\n",
        "Seat comfort: Satisfaction level of Seat comfort\n",
        "\n",
        "On-board service :Satisfaction level of On-board service\n",
        "\n",
        "Leg room service: Satisfaction level of Leg room service\n",
        "\n",
        "Departure/Arrival time convenient: Satisfaction level of Departure/Arrival time convenient\n",
        "\n",
        "Baggage handling: Satisfaction level of baggage handling\n",
        "\n",
        "Gate location: Satisfaction level of Gate location\n",
        "\n",
        "Cleanliness: Satisfaction level of Cleanliness\n",
        "\n",
        "Check-in service: Satisfaction level of Check-in service\n",
        "\n",
        "\n",
        "*In minutes:*\n",
        "\n",
        "Departure Delay in Minutes: Minutes delayed when departure\n",
        "\n",
        "Arrival Delay in Minutes: Minutes delayed when Arrival\n",
        "\n",
        "\n",
        "\n",
        "A sample of the dataset is shown below.\n",
        "\n",
        "\n"
      ]
    },
    {
      "cell_type": "code",
      "execution_count": null,
      "metadata": {
        "colab": {
          "base_uri": "https://localhost:8080/"
        },
        "id": "7Jrli-qYorzG",
        "outputId": "6d94cfdb-24b1-4748-b839-db199e398e90"
      },
      "outputs": [
        {
          "output_type": "stream",
          "name": "stdout",
          "text": [
            "       id satisfaction_v2  Gender   Customer Type  Age   Type of Travel  \\\n",
            "0   11112       satisfied  Female  Loyal Customer   65  Personal Travel   \n",
            "1  110278       satisfied    Male  Loyal Customer   47  Personal Travel   \n",
            "2  103199       satisfied  Female  Loyal Customer   15  Personal Travel   \n",
            "3   47462       satisfied  Female  Loyal Customer   60  Personal Travel   \n",
            "4  120011       satisfied  Female  Loyal Customer   70  Personal Travel   \n",
            "\n",
            "      Class  Flight Distance  Seat comfort  Departure/Arrival time convenient  \\\n",
            "0       Eco              265             0                                  0   \n",
            "1  Business             2464             0                                  0   \n",
            "2       Eco             2138             0                                  0   \n",
            "3       Eco              623             0                                  0   \n",
            "4       Eco              354             0                                  0   \n",
            "\n",
            "   ...  Online support  Ease of Online booking  On-board service  \\\n",
            "0  ...               2                       3                 3   \n",
            "1  ...               2                       3                 4   \n",
            "2  ...               2                       2                 3   \n",
            "3  ...               3                       1                 1   \n",
            "4  ...               4                       2                 2   \n",
            "\n",
            "   Leg room service  Baggage handling  Checkin service  Cleanliness  \\\n",
            "0                 0                 3                5            3   \n",
            "1                 4                 4                2            3   \n",
            "2                 3                 4                4            4   \n",
            "3                 0                 1                4            1   \n",
            "4                 0                 2                4            2   \n",
            "\n",
            "   Online boarding  Departure Delay in Minutes  Arrival Delay in Minutes  \n",
            "0                2                           0                       0.0  \n",
            "1                2                         310                     305.0  \n",
            "2                2                           0                       0.0  \n",
            "3                3                           0                       0.0  \n",
            "4                5                           0                       0.0  \n",
            "\n",
            "[5 rows x 24 columns]\n",
            "(129880, 24)\n"
          ]
        }
      ],
      "source": [
        "import pandas as pd\n",
        "\n",
        "init_data = pd.read_excel('satisfaction.xlsx')\n",
        "print(init_data.head())\n",
        "print(init_data.shape)"
      ]
    },
    {
      "cell_type": "markdown",
      "metadata": {
        "id": "90otSiTWrJSL"
      },
      "source": [
        "**Data Cleaning**:\n",
        "\n",
        "With the help of Kaggle and the Pandas framework, we were able to determine 393 records with missing data in the Arrival Delay in Minutes column. We decided to drop these 393 records with missing data since we would have had a lower risk of skewing our data and we have a lot of rows to work with."
      ]
    },
    {
      "cell_type": "code",
      "execution_count": null,
      "metadata": {
        "colab": {
          "base_uri": "https://localhost:8080/"
        },
        "id": "qwkYA5RWy_Ek",
        "outputId": "6b6e3076-5c67-428a-a3ca-2b6b5339f5b7"
      },
      "outputs": [
        {
          "output_type": "stream",
          "name": "stdout",
          "text": [
            "id                                     0\n",
            "satisfaction_v2                        0\n",
            "Gender                                 0\n",
            "Customer Type                          0\n",
            "Age                                    0\n",
            "Type of Travel                         0\n",
            "Class                                  0\n",
            "Flight Distance                        0\n",
            "Seat comfort                           0\n",
            "Departure/Arrival time convenient      0\n",
            "Food and drink                         0\n",
            "Gate location                          0\n",
            "Inflight wifi service                  0\n",
            "Inflight entertainment                 0\n",
            "Online support                         0\n",
            "Ease of Online booking                 0\n",
            "On-board service                       0\n",
            "Leg room service                       0\n",
            "Baggage handling                       0\n",
            "Checkin service                        0\n",
            "Cleanliness                            0\n",
            "Online boarding                        0\n",
            "Departure Delay in Minutes             0\n",
            "Arrival Delay in Minutes             393\n",
            "dtype: int64\n",
            "Records missing data in Arrival Delay in Minutes Column 393\n",
            "Records missing data in Arrival Delay in Minutes Column after dropping records 0\n"
          ]
        }
      ],
      "source": [
        "print(init_data.isnull().sum())\n",
        "missing = init_data['Arrival Delay in Minutes'].isnull().sum()\n",
        "print(\"Records missing data in Arrival Delay in Minutes Column\", missing)\n",
        "init_data = init_data.dropna()\n",
        "missing = init_data['Arrival Delay in Minutes'].isnull().sum()\n",
        "print(\"Records missing data in Arrival Delay in Minutes Column after dropping records\", missing)"
      ]
    },
    {
      "cell_type": "markdown",
      "metadata": {
        "id": "8aWZv5Ptsopa"
      },
      "source": [
        "**Data Exploration / Feature Engineering:**\n",
        "\n",
        "Since we are using supervised learning models, we will need to separate  our data labels. The satisfaction_v2 column contains satisfied, neutral/dissatisfied votes. Because this column is a categorical feature, we can easily one-hot encode them.\n",
        "\n",
        "In addition to satisfaction_v2, we had 4 other categorical features to one-hot encode.\n",
        "1. Gender: Female or Male\n",
        "2. Customer Type: Loyal Customer or disloyal Customer\n",
        "3. Type of Travel: Business Travel or Personal Travel\n",
        "4. Class: Business, Eco, or Eco Plus\n",
        "5. Satisfaction (Class label): Satisfied or Neutral/Dissatisfied  \n",
        "\n",
        "All columns were hot-encoded accordingly as shown below. The id column was not necessary for our testing, so it was removed from our data features.\n"
      ]
    },
    {
      "cell_type": "code",
      "execution_count": null,
      "metadata": {
        "colab": {
          "base_uri": "https://localhost:8080/"
        },
        "id": "La-_BxFksXBG",
        "outputId": "70a31c1f-e0bb-4df7-a6ae-2953d9316798"
      },
      "outputs": [
        {
          "output_type": "stream",
          "name": "stdout",
          "text": [
            "   Age  Flight Distance  Seat comfort  Departure/Arrival time convenient  \\\n",
            "0   65              265             0                                  0   \n",
            "1   47             2464             0                                  0   \n",
            "2   15             2138             0                                  0   \n",
            "3   60              623             0                                  0   \n",
            "4   70              354             0                                  0   \n",
            "\n",
            "   Food and drink  Gate location  Inflight wifi service  \\\n",
            "0               0              2                      2   \n",
            "1               0              3                      0   \n",
            "2               0              3                      2   \n",
            "3               0              3                      3   \n",
            "4               0              3                      4   \n",
            "\n",
            "   Inflight entertainment  Online support  Ease of Online booking  ...  \\\n",
            "0                       4               2                       3  ...   \n",
            "1                       2               2                       3  ...   \n",
            "2                       0               2                       2  ...   \n",
            "3                       4               3                       1  ...   \n",
            "4                       3               4                       2  ...   \n",
            "\n",
            "   satisfaction_v2_satisfied  Gender_Female  Gender_Male  \\\n",
            "0                          1              1            0   \n",
            "1                          1              0            1   \n",
            "2                          1              1            0   \n",
            "3                          1              1            0   \n",
            "4                          1              1            0   \n",
            "\n",
            "   Customer Type_Loyal Customer  Customer Type_disloyal Customer  \\\n",
            "0                             1                                0   \n",
            "1                             1                                0   \n",
            "2                             1                                0   \n",
            "3                             1                                0   \n",
            "4                             1                                0   \n",
            "\n",
            "   Type of Travel_Business travel  Type of Travel_Personal Travel  \\\n",
            "0                               0                               1   \n",
            "1                               0                               1   \n",
            "2                               0                               1   \n",
            "3                               0                               1   \n",
            "4                               0                               1   \n",
            "\n",
            "   Class_Business  Class_Eco  Class_Eco Plus  \n",
            "0               0          1               0  \n",
            "1               1          0               0  \n",
            "2               0          1               0  \n",
            "3               0          1               0  \n",
            "4               0          1               0  \n",
            "\n",
            "[5 rows x 28 columns]\n"
          ]
        }
      ],
      "source": [
        "data = init_data.drop(['id'],axis=1)\n",
        "data = pd.get_dummies(data, columns=['satisfaction_v2'], drop_first=True)\n",
        "data = pd.get_dummies(data, columns=['Gender', 'Customer Type', 'Type of Travel', 'Class'])\n",
        "print(data.head())"
      ]
    },
    {
      "cell_type": "markdown",
      "source": [
        "**Data Exploration:**\n",
        "\n",
        "Checking for outliers in the columns:\n",
        "\n",
        " - Flight Distance\n",
        "\n",
        " - Departure Delay in Minutes\n",
        "\n",
        " - Arrival Delay in Minutes"
      ],
      "metadata": {
        "id": "RzcZDziK8ri-"
      }
    },
    {
      "cell_type": "code",
      "source": [
        "data.boxplot(column=['Flight Distance'])\n",
        "print('Number of Flight Distance suspected outliers' , data[data['Flight Distance'] > 4200].shape[0])"
      ],
      "metadata": {
        "colab": {
          "base_uri": "https://localhost:8080/",
          "height": 447
        },
        "id": "s3r5qGxa9hGE",
        "outputId": "9a36a73e-35c8-481b-8e37-edd908eb0f1c"
      },
      "execution_count": null,
      "outputs": [
        {
          "output_type": "stream",
          "name": "stdout",
          "text": [
            "Number of Flight Distance suspected outliers 2994\n"
          ]
        },
        {
          "output_type": "display_data",
          "data": {
            "text/plain": [
              "<Figure size 640x480 with 1 Axes>"
            ],
            "image/png": "[encoded data removed]"
          },
          "metadata": {}
        }
      ]
    },
    {
      "cell_type": "markdown",
      "source": [
        "We know flights can go long distances. While 7,000 miles is highly unlikely it is still possible so we will leave this data in the dataset. Out of a total of 129,880 it wouldn't make much of a difference anyway."
      ],
      "metadata": {
        "id": "MV4D1hgrZHZ8"
      }
    },
    {
      "cell_type": "markdown",
      "source": [
        "Checking data in Departure Delay in Minutes."
      ],
      "metadata": {
        "id": "PxbQqvzGUcvO"
      }
    },
    {
      "cell_type": "code",
      "source": [
        "data.boxplot(column=['Departure Delay in Minutes'])"
      ],
      "metadata": {
        "colab": {
          "base_uri": "https://localhost:8080/",
          "height": 447
        },
        "id": "S-ushPTr-Ikw",
        "outputId": "d93ef626-ee81-4a36-9d3b-8424fc3fee4b"
      },
      "execution_count": null,
      "outputs": [
        {
          "output_type": "execute_result",
          "data": {
            "text/plain": [
              "<Axes: >"
            ]
          },
          "metadata": {},
          "execution_count": 5
        },
        {
          "output_type": "display_data",
          "data": {
            "text/plain": [
              "<Figure size 640x480 with 1 Axes>"
            ],
            "image/png": "[encoded data removed]"
          },
          "metadata": {}
        }
      ]
    },
    {
      "cell_type": "markdown",
      "source": [
        "We determined the highest three data points was above 1100 minutes so we went ahead and dropped them from the dataset. They are gone below."
      ],
      "metadata": {
        "id": "UBlHLaSacWmQ"
      }
    },
    {
      "cell_type": "code",
      "source": [
        "data = data[data['Departure Delay in Minutes'] < 1100]\n",
        "data.boxplot(column=['Departure Delay in Minutes'])"
      ],
      "metadata": {
        "colab": {
          "base_uri": "https://localhost:8080/",
          "height": 447
        },
        "id": "Twj53BozcT0F",
        "outputId": "090b92ec-10cc-4c32-c36e-78fed007d619"
      },
      "execution_count": null,
      "outputs": [
        {
          "output_type": "execute_result",
          "data": {
            "text/plain": [
              "<Axes: >"
            ]
          },
          "metadata": {},
          "execution_count": 6
        },
        {
          "output_type": "display_data",
          "data": {
            "text/plain": [
              "<Figure size 640x480 with 1 Axes>"
            ],
            "image/png": "[encoded data removed]"
          },
          "metadata": {}
        }
      ]
    },
    {
      "cell_type": "markdown",
      "source": [
        "There was no egreious outliers but we will go ahead and get rid of the top three records since the departure delay in minutes is out of the norm. Again, with this many records it shouldn't make much of a difference."
      ],
      "metadata": {
        "id": "B_jj9W4PbKM0"
      }
    },
    {
      "cell_type": "markdown",
      "source": [
        "Checking data in Arrival Delay in Minutes."
      ],
      "metadata": {
        "id": "2Js9T0X-Uq3n"
      }
    },
    {
      "cell_type": "code",
      "source": [
        "data.boxplot(column=['Arrival Delay in Minutes'])"
      ],
      "metadata": {
        "colab": {
          "base_uri": "https://localhost:8080/",
          "height": 447
        },
        "id": "zF0rvsB7-ORc",
        "outputId": "db1151fc-cec9-4074-c9d1-74ad2bdc4fb6"
      },
      "execution_count": null,
      "outputs": [
        {
          "output_type": "execute_result",
          "data": {
            "text/plain": [
              "<Axes: >"
            ]
          },
          "metadata": {},
          "execution_count": 7
        },
        {
          "output_type": "display_data",
          "data": {
            "text/plain": [
              "<Figure size 640x480 with 1 Axes>"
            ],
            "image/png": "[encoded data removed]"
          },
          "metadata": {}
        }
      ]
    },
    {
      "cell_type": "markdown",
      "source": [
        "We have a suspicion that Arrival Delay in Minutes and Departure Delay in minutes are related to one another. As we can see most of the data appears fine because flights can be delayed for a long time. We decided not to take any records out due to this column.\n"
      ],
      "metadata": {
        "id": "BpPBph3tdEoj"
      }
    },
    {
      "cell_type": "markdown",
      "source": [
        "**Data Exploration:** We wanted to see if there were any strong correlations between being satisfied with an airline experience in comparison to the features."
      ],
      "metadata": {
        "id": "4MdVh7pee1V5"
      }
    },
    {
      "cell_type": "code",
      "source": [
        "pd.set_option('display.max_columns', None)\n",
        "print(data.corr())"
      ],
      "metadata": {
        "colab": {
          "base_uri": "https://localhost:8080/"
        },
        "id": "X9Q_r423e1HY",
        "outputId": "23819a63-0b07-42cf-f3a3-9a01bb930504"
      },
      "execution_count": null,
      "outputs": [
        {
          "output_type": "stream",
          "name": "stdout",
          "text": [
            "                                        Age  Flight Distance  Seat comfort  \\\n",
            "Age                                1.000000        -0.249429      0.008466   \n",
            "Flight Distance                   -0.249429         1.000000     -0.042457   \n",
            "Seat comfort                       0.008466        -0.042457      1.000000   \n",
            "Departure/Arrival time convenient  0.038927         0.001388      0.434951   \n",
            "Food and drink                     0.015487        -0.004786      0.716005   \n",
            "Gate location                     -0.000820        -0.002302      0.405355   \n",
            "Inflight wifi service              0.014031         0.012305      0.129152   \n",
            "Inflight entertainment             0.130233        -0.027358      0.426497   \n",
            "Online support                     0.121270        -0.031857      0.120148   \n",
            "Ease of Online booking             0.071739        -0.022313      0.211573   \n",
            "On-board service                   0.066518        -0.032438      0.121190   \n",
            "Leg room service                   0.083683        -0.030243      0.136168   \n",
            "Baggage handling                  -0.015536         0.019638      0.118566   \n",
            "Checkin service                    0.031536         0.002530      0.041258   \n",
            "Cleanliness                       -0.018615         0.009413      0.108674   \n",
            "Online boarding                    0.037929         0.009674      0.130361   \n",
            "Departure Delay in Minutes        -0.008954         0.112037     -0.023699   \n",
            "Arrival Delay in Minutes          -0.010974         0.110462     -0.025382   \n",
            "satisfaction_v2_satisfied          0.117906        -0.039133      0.242369   \n",
            "Gender_Female                     -0.009008        -0.120742      0.072143   \n",
            "Gender_Male                        0.009008         0.120742     -0.072143   \n",
            "Customer Type_Loyal Customer       0.284289        -0.019061      0.043030   \n",
            "Customer Type_disloyal Customer   -0.284289         0.019061     -0.043030   \n",
            "Type of Travel_Business travel     0.044896         0.123201     -0.017338   \n",
            "Type of Travel_Personal Travel    -0.044896        -0.123201      0.017338   \n",
            "Class_Business                     0.138865         0.164745     -0.033712   \n",
            "Class_Eco                         -0.132818        -0.138208      0.023772   \n",
            "Class_Eco Plus                    -0.012767        -0.052299      0.019355   \n",
            "\n",
            "                                   Departure/Arrival time convenient  \\\n",
            "Age                                                         0.038927   \n",
            "Flight Distance                                             0.001388   \n",
            "Seat comfort                                                0.434951   \n",
            "Departure/Arrival time convenient                           1.000000   \n",
            "Food and drink                                              0.527583   \n",
            "Gate location                                               0.544323   \n",
            "Inflight wifi service                                      -0.001547   \n",
            "Inflight entertainment                                      0.077290   \n",
            "Online support                                             -0.000450   \n",
            "Ease of Online booking                                      0.001842   \n",
            "On-board service                                            0.060105   \n",
            "Leg room service                                            0.029428   \n",
            "Baggage handling                                            0.067194   \n",
            "Checkin service                                             0.062949   \n",
            "Cleanliness                                                 0.067022   \n",
            "Online boarding                                            -0.000476   \n",
            "Departure Delay in Minutes                                  0.004341   \n",
            "Arrival Delay in Minutes                                    0.002715   \n",
            "satisfaction_v2_satisfied                                  -0.015614   \n",
            "Gender_Female                                              -0.052034   \n",
            "Gender_Male                                                 0.052034   \n",
            "Customer Type_Loyal Customer                                0.186069   \n",
            "Customer Type_disloyal Customer                            -0.186069   \n",
            "Type of Travel_Business travel                             -0.191495   \n",
            "Type of Travel_Personal Travel                              0.191495   \n",
            "Class_Business                                             -0.057573   \n",
            "Class_Eco                                                   0.047533   \n",
            "Class_Eco Plus                                              0.019747   \n",
            "\n",
            "                                   Food and drink  Gate location  \\\n",
            "Age                                      0.015487      -0.000820   \n",
            "Flight Distance                         -0.004786      -0.002302   \n",
            "Seat comfort                             0.716005       0.405355   \n",
            "Departure/Arrival time convenient        0.527583       0.544323   \n",
            "Food and drink                           1.000000       0.523527   \n",
            "Gate location                            0.523527       1.000000   \n",
            "Inflight wifi service                    0.026075      -0.003946   \n",
            "Inflight entertainment                   0.367785      -0.000433   \n",
            "Online support                           0.028495       0.002675   \n",
            "Ease of Online booking                   0.041145       0.001365   \n",
            "On-board service                         0.038584      -0.025341   \n",
            "Leg room service                         0.073981      -0.007457   \n",
            "Baggage handling                         0.036315      -0.000337   \n",
            "Checkin service                          0.011905      -0.031813   \n",
            "Cleanliness                              0.033305      -0.001796   \n",
            "Online boarding                          0.013613      -0.003144   \n",
            "Departure Delay in Minutes              -0.013087       0.004430   \n",
            "Arrival Delay in Minutes                -0.014617       0.004054   \n",
            "satisfaction_v2_satisfied                0.120564      -0.012273   \n",
            "Gender_Female                            0.059048       0.010992   \n",
            "Gender_Male                             -0.059048      -0.010992   \n",
            "Customer Type_Loyal Customer             0.048900       0.000339   \n",
            "Customer Type_disloyal Customer         -0.048900      -0.000339   \n",
            "Type of Travel_Business travel           0.031390       0.013836   \n",
            "Type of Travel_Personal Travel          -0.031390      -0.013836   \n",
            "Class_Business                           0.049420      -0.003805   \n",
            "Class_Eco                               -0.046795       0.004154   \n",
            "Class_Eco Plus                          -0.005452      -0.000636   \n",
            "\n",
            "                                   Inflight wifi service  \\\n",
            "Age                                             0.014031   \n",
            "Flight Distance                                 0.012305   \n",
            "Seat comfort                                    0.129152   \n",
            "Departure/Arrival time convenient              -0.001547   \n",
            "Food and drink                                  0.026075   \n",
            "Gate location                                  -0.003946   \n",
            "Inflight wifi service                           1.000000   \n",
            "Inflight entertainment                          0.253927   \n",
            "Online support                                  0.557535   \n",
            "Ease of Online booking                          0.601084   \n",
            "On-board service                                0.060857   \n",
            "Leg room service                                0.033625   \n",
            "Baggage handling                                0.038348   \n",
            "Checkin service                                 0.092371   \n",
            "Cleanliness                                     0.038511   \n",
            "Online boarding                                 0.631789   \n",
            "Departure Delay in Minutes                     -0.033326   \n",
            "Arrival Delay in Minutes                       -0.035593   \n",
            "satisfaction_v2_satisfied                       0.226990   \n",
            "Gender_Female                                   0.031596   \n",
            "Gender_Male                                    -0.031596   \n",
            "Customer Type_Loyal Customer                    0.073581   \n",
            "Customer Type_disloyal Customer                -0.073581   \n",
            "Type of Travel_Business travel                  0.018875   \n",
            "Type of Travel_Personal Travel                 -0.018875   \n",
            "Class_Business                                  0.062665   \n",
            "Class_Eco                                      -0.055260   \n",
            "Class_Eco Plus                                 -0.014734   \n",
            "\n",
            "                                   Inflight entertainment  Online support  \\\n",
            "Age                                              0.130233        0.121270   \n",
            "Flight Distance                                 -0.027358       -0.031857   \n",
            "Seat comfort                                     0.426497        0.120148   \n",
            "Departure/Arrival time convenient                0.077290       -0.000450   \n",
            "Food and drink                                   0.367785        0.028495   \n",
            "Gate location                                   -0.000433        0.002675   \n",
            "Inflight wifi service                            0.253927        0.557535   \n",
            "Inflight entertainment                           1.000000        0.441831   \n",
            "Online support                                   0.441831        1.000000   \n",
            "Ease of Online booking                           0.321912        0.617660   \n",
            "On-board service                                 0.184087        0.158017   \n",
            "Leg room service                                 0.160603        0.138250   \n",
            "Baggage handling                                 0.117300        0.102419   \n",
            "Checkin service                                  0.224106        0.206602   \n",
            "Cleanliness                                      0.109421        0.095767   \n",
            "Online boarding                                  0.355674        0.669871   \n",
            "Departure Delay in Minutes                      -0.030836       -0.033673   \n",
            "Arrival Delay in Minutes                        -0.033848       -0.036083   \n",
            "satisfaction_v2_satisfied                        0.523360        0.389870   \n",
            "Gender_Female                                    0.140918        0.090273   \n",
            "Gender_Male                                     -0.140918       -0.090273   \n",
            "Customer Type_Loyal Customer                     0.236087        0.186342   \n",
            "Customer Type_disloyal Customer                 -0.236087       -0.186342   \n",
            "Type of Travel_Business travel                   0.079049        0.038942   \n",
            "Type of Travel_Personal Travel                  -0.079049       -0.038942   \n",
            "Class_Business                                   0.248138        0.184074   \n",
            "Class_Eco                                       -0.218517       -0.159518   \n",
            "Class_Eco Plus                                  -0.058915       -0.048659   \n",
            "\n",
            "                                   Ease of Online booking  On-board service  \\\n",
            "Age                                              0.071739          0.066518   \n",
            "Flight Distance                                 -0.022313         -0.032438   \n",
            "Seat comfort                                     0.211573          0.121190   \n",
            "Departure/Arrival time convenient                0.001842          0.060105   \n",
            "Food and drink                                   0.041145          0.038584   \n",
            "Gate location                                    0.001365         -0.025341   \n",
            "Inflight wifi service                            0.601084          0.060857   \n",
            "Inflight entertainment                           0.321912          0.184087   \n",
            "Online support                                   0.617660          0.158017   \n",
            "Ease of Online booking                           1.000000          0.436446   \n",
            "On-board service                                 0.436446          1.000000   \n",
            "Leg room service                                 0.355287          0.411876   \n",
            "Baggage handling                                 0.398461          0.530590   \n",
            "Checkin service                                  0.137900          0.251049   \n",
            "Cleanliness                                      0.418072          0.551146   \n",
            "Online boarding                                  0.684349          0.139586   \n",
            "Departure Delay in Minutes                      -0.036818         -0.038457   \n",
            "Arrival Delay in Minutes                        -0.040003         -0.042376   \n",
            "satisfaction_v2_satisfied                        0.432021          0.352292   \n",
            "Gender_Female                                    0.082241          0.057012   \n",
            "Gender_Male                                     -0.082241         -0.057012   \n",
            "Customer Type_Loyal Customer                     0.149869          0.085259   \n",
            "Customer Type_disloyal Customer                 -0.149869         -0.085259   \n",
            "Type of Travel_Business travel                   0.025421         -0.035901   \n",
            "Type of Travel_Personal Travel                  -0.025421          0.035901   \n",
            "Class_Business                                   0.133061          0.171904   \n",
            "Class_Eco                                       -0.115315         -0.138443   \n",
            "Class_Eco Plus                                  -0.035167         -0.065645   \n",
            "\n",
            "                                   Leg room service  Baggage handling  \\\n",
            "Age                                        0.083683         -0.015536   \n",
            "Flight Distance                           -0.030243          0.019638   \n",
            "Seat comfort                               0.136168          0.118566   \n",
            "Departure/Arrival time convenient          0.029428          0.067194   \n",
            "Food and drink                             0.073981          0.036315   \n",
            "Gate location                             -0.007457         -0.000337   \n",
            "Inflight wifi service                      0.033625          0.038348   \n",
            "Inflight entertainment                     0.160603          0.117300   \n",
            "Online support                             0.138250          0.102419   \n",
            "Ease of Online booking                     0.355287          0.398461   \n",
            "On-board service                           0.411876          0.530590   \n",
            "Leg room service                           1.000000          0.411730   \n",
            "Baggage handling                           0.411730          1.000000   \n",
            "Checkin service                            0.167945          0.241226   \n",
            "Cleanliness                                0.411692          0.632061   \n",
            "Online boarding                            0.113015          0.111946   \n",
            "Departure Delay in Minutes                 0.003205         -0.010865   \n",
            "Arrival Delay in Minutes                   0.000134         -0.014768   \n",
            "satisfaction_v2_satisfied                  0.305113          0.260413   \n",
            "Gender_Female                              0.071373          0.017016   \n",
            "Gender_Male                               -0.071373         -0.017016   \n",
            "Customer Type_Loyal Customer               0.097242          0.000497   \n",
            "Customer Type_disloyal Customer           -0.097242         -0.000497   \n",
            "Type of Travel_Business travel            -0.014075         -0.048554   \n",
            "Type of Travel_Personal Travel             0.014075          0.048554   \n",
            "Class_Business                             0.132750          0.130833   \n",
            "Class_Eco                                 -0.110153         -0.101635   \n",
            "Class_Eco Plus                            -0.044472         -0.057121   \n",
            "\n",
            "                                   Checkin service  Cleanliness  \\\n",
            "Age                                       0.031536    -0.018615   \n",
            "Flight Distance                           0.002530     0.009413   \n",
            "Seat comfort                              0.041258     0.108674   \n",
            "Departure/Arrival time convenient         0.062949     0.067022   \n",
            "Food and drink                            0.011905     0.033305   \n",
            "Gate location                            -0.031813    -0.001796   \n",
            "Inflight wifi service                     0.092371     0.038511   \n",
            "Inflight entertainment                    0.224106     0.109421   \n",
            "Online support                            0.206602     0.095767   \n",
            "Ease of Online booking                    0.137900     0.418072   \n",
            "On-board service                          0.251049     0.551146   \n",
            "Leg room service                          0.167945     0.411692   \n",
            "Baggage handling                          0.241226     0.632061   \n",
            "Checkin service                           1.000000     0.241943   \n",
            "Cleanliness                               0.241943     1.000000   \n",
            "Online boarding                           0.184110     0.106436   \n",
            "Departure Delay in Minutes               -0.020619    -0.062432   \n",
            "Arrival Delay in Minutes                 -0.023779    -0.067661   \n",
            "satisfaction_v2_satisfied                 0.266065     0.259502   \n",
            "Gender_Female                             0.018534     0.015329   \n",
            "Gender_Male                              -0.018534    -0.015329   \n",
            "Customer Type_Loyal Customer              0.044359     0.002042   \n",
            "Customer Type_disloyal Customer          -0.044359    -0.002042   \n",
            "Type of Travel_Business travel           -0.057540    -0.058511   \n",
            "Type of Travel_Personal Travel            0.057540     0.058511   \n",
            "Class_Business                            0.140620     0.124275   \n",
            "Class_Eco                                -0.110030    -0.096810   \n",
            "Class_Eco Plus                           -0.059873    -0.053740   \n",
            "\n",
            "                                   Online boarding  \\\n",
            "Age                                       0.037929   \n",
            "Flight Distance                           0.009674   \n",
            "Seat comfort                              0.130361   \n",
            "Departure/Arrival time convenient        -0.000476   \n",
            "Food and drink                            0.013613   \n",
            "Gate location                            -0.003144   \n",
            "Inflight wifi service                     0.631789   \n",
            "Inflight entertainment                    0.355674   \n",
            "Online support                            0.669871   \n",
            "Ease of Online booking                    0.684349   \n",
            "On-board service                          0.139586   \n",
            "Leg room service                          0.113015   \n",
            "Baggage handling                          0.111946   \n",
            "Checkin service                           0.184110   \n",
            "Cleanliness                               0.106436   \n",
            "Online boarding                           1.000000   \n",
            "Departure Delay in Minutes               -0.019872   \n",
            "Arrival Delay in Minutes                 -0.021679   \n",
            "satisfaction_v2_satisfied                 0.338097   \n",
            "Gender_Female                             0.047476   \n",
            "Gender_Male                              -0.047476   \n",
            "Customer Type_Loyal Customer              0.106564   \n",
            "Customer Type_disloyal Customer          -0.106564   \n",
            "Type of Travel_Business travel            0.008860   \n",
            "Type of Travel_Personal Travel           -0.008860   \n",
            "Class_Business                            0.101753   \n",
            "Class_Eco                                -0.087072   \n",
            "Class_Eco Plus                           -0.029023   \n",
            "\n",
            "                                   Departure Delay in Minutes  \\\n",
            "Age                                                 -0.008954   \n",
            "Flight Distance                                      0.112037   \n",
            "Seat comfort                                        -0.023699   \n",
            "Departure/Arrival time convenient                    0.004341   \n",
            "Food and drink                                      -0.013087   \n",
            "Gate location                                        0.004430   \n",
            "Inflight wifi service                               -0.033326   \n",
            "Inflight entertainment                              -0.030836   \n",
            "Online support                                      -0.033673   \n",
            "Ease of Online booking                              -0.036818   \n",
            "On-board service                                    -0.038457   \n",
            "Leg room service                                     0.003205   \n",
            "Baggage handling                                    -0.010865   \n",
            "Checkin service                                     -0.020619   \n",
            "Cleanliness                                         -0.062432   \n",
            "Online boarding                                     -0.019872   \n",
            "Departure Delay in Minutes                           1.000000   \n",
            "Arrival Delay in Minutes                             0.964293   \n",
            "satisfaction_v2_satisfied                           -0.074686   \n",
            "Gender_Female                                       -0.002974   \n",
            "Gender_Male                                          0.002974   \n",
            "Customer Type_Loyal Customer                        -0.004582   \n",
            "Customer Type_disloyal Customer                      0.004582   \n",
            "Type of Travel_Business travel                       0.007083   \n",
            "Type of Travel_Personal Travel                      -0.007083   \n",
            "Class_Business                                      -0.010266   \n",
            "Class_Eco                                            0.008645   \n",
            "Class_Eco Plus                                       0.003195   \n",
            "\n",
            "                                   Arrival Delay in Minutes  \\\n",
            "Age                                               -0.010974   \n",
            "Flight Distance                                    0.110462   \n",
            "Seat comfort                                      -0.025382   \n",
            "Departure/Arrival time convenient                  0.002715   \n",
            "Food and drink                                    -0.014617   \n",
            "Gate location                                      0.004054   \n",
            "Inflight wifi service                             -0.035593   \n",
            "Inflight entertainment                            -0.033848   \n",
            "Online support                                    -0.036083   \n",
            "Ease of Online booking                            -0.040003   \n",
            "On-board service                                  -0.042376   \n",
            "Leg room service                                   0.000134   \n",
            "Baggage handling                                  -0.014768   \n",
            "Checkin service                                   -0.023779   \n",
            "Cleanliness                                       -0.067661   \n",
            "Online boarding                                   -0.021679   \n",
            "Departure Delay in Minutes                         0.964293   \n",
            "Arrival Delay in Minutes                           1.000000   \n",
            "satisfaction_v2_satisfied                         -0.081462   \n",
            "Gender_Female                                     -0.001153   \n",
            "Gender_Male                                        0.001153   \n",
            "Customer Type_Loyal Customer                      -0.005176   \n",
            "Customer Type_disloyal Customer                    0.005176   \n",
            "Type of Travel_Business travel                     0.006551   \n",
            "Type of Travel_Personal Travel                    -0.006551   \n",
            "Class_Business                                    -0.014890   \n",
            "Class_Eco                                          0.012104   \n",
            "Class_Eco Plus                                     0.005470   \n",
            "\n",
            "                                   satisfaction_v2_satisfied  Gender_Female  \\\n",
            "Age                                                 0.117906      -0.009008   \n",
            "Flight Distance                                    -0.039133      -0.120742   \n",
            "Seat comfort                                        0.242369       0.072143   \n",
            "Departure/Arrival time convenient                  -0.015614      -0.052034   \n",
            "Food and drink                                      0.120564       0.059048   \n",
            "Gate location                                      -0.012273       0.010992   \n",
            "Inflight wifi service                               0.226990       0.031596   \n",
            "Inflight entertainment                              0.523360       0.140918   \n",
            "Online support                                      0.389870       0.090273   \n",
            "Ease of Online booking                              0.432021       0.082241   \n",
            "On-board service                                    0.352292       0.057012   \n",
            "Leg room service                                    0.305113       0.071373   \n",
            "Baggage handling                                    0.260413       0.017016   \n",
            "Checkin service                                     0.266065       0.018534   \n",
            "Cleanliness                                         0.259502       0.015329   \n",
            "Online boarding                                     0.338097       0.047476   \n",
            "Departure Delay in Minutes                         -0.074686      -0.002974   \n",
            "Arrival Delay in Minutes                           -0.081462      -0.001153   \n",
            "satisfaction_v2_satisfied                           1.000000       0.212062   \n",
            "Gender_Female                                       0.212062       1.000000   \n",
            "Gender_Male                                        -0.212062      -1.000000   \n",
            "Customer Type_Loyal Customer                        0.292572      -0.030800   \n",
            "Customer Type_disloyal Customer                    -0.292572       0.030800   \n",
            "Type of Travel_Business travel                      0.108883       0.009220   \n",
            "Type of Travel_Personal Travel                     -0.108883      -0.009220   \n",
            "Class_Business                                      0.311918      -0.008507   \n",
            "Class_Eco                                          -0.278102       0.002535   \n",
            "Class_Eco Plus                                     -0.067501       0.011529   \n",
            "\n",
            "                                   Gender_Male  Customer Type_Loyal Customer  \\\n",
            "Age                                   0.009008                      0.284289   \n",
            "Flight Distance                       0.120742                     -0.019061   \n",
            "Seat comfort                         -0.072143                      0.043030   \n",
            "Departure/Arrival time convenient     0.052034                      0.186069   \n",
            "Food and drink                       -0.059048                      0.048900   \n",
            "Gate location                        -0.010992                      0.000339   \n",
            "Inflight wifi service                -0.031596                      0.073581   \n",
            "Inflight entertainment               -0.140918                      0.236087   \n",
            "Online support                       -0.090273                      0.186342   \n",
            "Ease of Online booking               -0.082241                      0.149869   \n",
            "On-board service                     -0.057012                      0.085259   \n",
            "Leg room service                     -0.071373                      0.097242   \n",
            "Baggage handling                     -0.017016                      0.000497   \n",
            "Checkin service                      -0.018534                      0.044359   \n",
            "Cleanliness                          -0.015329                      0.002042   \n",
            "Online boarding                      -0.047476                      0.106564   \n",
            "Departure Delay in Minutes            0.002974                     -0.004582   \n",
            "Arrival Delay in Minutes              0.001153                     -0.005176   \n",
            "satisfaction_v2_satisfied            -0.212062                      0.292572   \n",
            "Gender_Female                        -1.000000                     -0.030800   \n",
            "Gender_Male                           1.000000                      0.030800   \n",
            "Customer Type_Loyal Customer          0.030800                      1.000000   \n",
            "Customer Type_disloyal Customer      -0.030800                     -1.000000   \n",
            "Type of Travel_Business travel       -0.009220                     -0.308208   \n",
            "Type of Travel_Personal Travel        0.009220                      0.308208   \n",
            "Class_Business                        0.008507                      0.085649   \n",
            "Class_Eco                            -0.002535                     -0.118375   \n",
            "Class_Eco Plus                       -0.011529                      0.062075   \n",
            "\n",
            "                                   Customer Type_disloyal Customer  \\\n",
            "Age                                                      -0.284289   \n",
            "Flight Distance                                           0.019061   \n",
            "Seat comfort                                             -0.043030   \n",
            "Departure/Arrival time convenient                        -0.186069   \n",
            "Food and drink                                           -0.048900   \n",
            "Gate location                                            -0.000339   \n",
            "Inflight wifi service                                    -0.073581   \n",
            "Inflight entertainment                                   -0.236087   \n",
            "Online support                                           -0.186342   \n",
            "Ease of Online booking                                   -0.149869   \n",
            "On-board service                                         -0.085259   \n",
            "Leg room service                                         -0.097242   \n",
            "Baggage handling                                         -0.000497   \n",
            "Checkin service                                          -0.044359   \n",
            "Cleanliness                                              -0.002042   \n",
            "Online boarding                                          -0.106564   \n",
            "Departure Delay in Minutes                                0.004582   \n",
            "Arrival Delay in Minutes                                  0.005176   \n",
            "satisfaction_v2_satisfied                                -0.292572   \n",
            "Gender_Female                                             0.030800   \n",
            "Gender_Male                                              -0.030800   \n",
            "Customer Type_Loyal Customer                             -1.000000   \n",
            "Customer Type_disloyal Customer                           1.000000   \n",
            "Type of Travel_Business travel                            0.308208   \n",
            "Type of Travel_Personal Travel                           -0.308208   \n",
            "Class_Business                                           -0.085649   \n",
            "Class_Eco                                                 0.118375   \n",
            "Class_Eco Plus                                           -0.062075   \n",
            "\n",
            "                                   Type of Travel_Business travel  \\\n",
            "Age                                                      0.044896   \n",
            "Flight Distance                                          0.123201   \n",
            "Seat comfort                                            -0.017338   \n",
            "Departure/Arrival time convenient                       -0.191495   \n",
            "Food and drink                                           0.031390   \n",
            "Gate location                                            0.013836   \n",
            "Inflight wifi service                                    0.018875   \n",
            "Inflight entertainment                                   0.079049   \n",
            "Online support                                           0.038942   \n",
            "Ease of Online booking                                   0.025421   \n",
            "On-board service                                        -0.035901   \n",
            "Leg room service                                        -0.014075   \n",
            "Baggage handling                                        -0.048554   \n",
            "Checkin service                                         -0.057540   \n",
            "Cleanliness                                             -0.058511   \n",
            "Online boarding                                          0.008860   \n",
            "Departure Delay in Minutes                               0.007083   \n",
            "Arrival Delay in Minutes                                 0.006551   \n",
            "satisfaction_v2_satisfied                                0.108883   \n",
            "Gender_Female                                            0.009220   \n",
            "Gender_Male                                             -0.009220   \n",
            "Customer Type_Loyal Customer                            -0.308208   \n",
            "Customer Type_disloyal Customer                          0.308208   \n",
            "Type of Travel_Business travel                           1.000000   \n",
            "Type of Travel_Personal Travel                          -1.000000   \n",
            "Class_Business                                           0.552054   \n",
            "Class_Eco                                               -0.501034   \n",
            "Class_Eco Plus                                          -0.102526   \n",
            "\n",
            "                                   Type of Travel_Personal Travel  \\\n",
            "Age                                                     -0.044896   \n",
            "Flight Distance                                         -0.123201   \n",
            "Seat comfort                                             0.017338   \n",
            "Departure/Arrival time convenient                        0.191495   \n",
            "Food and drink                                          -0.031390   \n",
            "Gate location                                           -0.013836   \n",
            "Inflight wifi service                                   -0.018875   \n",
            "Inflight entertainment                                  -0.079049   \n",
            "Online support                                          -0.038942   \n",
            "Ease of Online booking                                  -0.025421   \n",
            "On-board service                                         0.035901   \n",
            "Leg room service                                         0.014075   \n",
            "Baggage handling                                         0.048554   \n",
            "Checkin service                                          0.057540   \n",
            "Cleanliness                                              0.058511   \n",
            "Online boarding                                         -0.008860   \n",
            "Departure Delay in Minutes                              -0.007083   \n",
            "Arrival Delay in Minutes                                -0.006551   \n",
            "satisfaction_v2_satisfied                               -0.108883   \n",
            "Gender_Female                                           -0.009220   \n",
            "Gender_Male                                              0.009220   \n",
            "Customer Type_Loyal Customer                             0.308208   \n",
            "Customer Type_disloyal Customer                         -0.308208   \n",
            "Type of Travel_Business travel                          -1.000000   \n",
            "Type of Travel_Personal Travel                           1.000000   \n",
            "Class_Business                                          -0.552054   \n",
            "Class_Eco                                                0.501034   \n",
            "Class_Eco Plus                                           0.102526   \n",
            "\n",
            "                                   Class_Business  Class_Eco  Class_Eco Plus  \n",
            "Age                                      0.138865  -0.132818       -0.012767  \n",
            "Flight Distance                          0.164745  -0.138208       -0.052299  \n",
            "Seat comfort                            -0.033712   0.023772        0.019355  \n",
            "Departure/Arrival time convenient       -0.057573   0.047533        0.019747  \n",
            "Food and drink                           0.049420  -0.046795       -0.005452  \n",
            "Gate location                           -0.003805   0.004154       -0.000636  \n",
            "Inflight wifi service                    0.062665  -0.055260       -0.014734  \n",
            "Inflight entertainment                   0.248138  -0.218517       -0.058915  \n",
            "Online support                           0.184074  -0.159518       -0.048659  \n",
            "Ease of Online booking                   0.133061  -0.115315       -0.035167  \n",
            "On-board service                         0.171904  -0.138443       -0.065645  \n",
            "Leg room service                         0.132750  -0.110153       -0.044472  \n",
            "Baggage handling                         0.130833  -0.101635       -0.057121  \n",
            "Checkin service                          0.140620  -0.110030       -0.059873  \n",
            "Cleanliness                              0.124275  -0.096810       -0.053740  \n",
            "Online boarding                          0.101753  -0.087072       -0.029023  \n",
            "Departure Delay in Minutes              -0.010266   0.008645        0.003195  \n",
            "Arrival Delay in Minutes                -0.014890   0.012104        0.005470  \n",
            "satisfaction_v2_satisfied                0.311918  -0.278102       -0.067501  \n",
            "Gender_Female                           -0.008507   0.002535        0.011529  \n",
            "Gender_Male                              0.008507  -0.002535       -0.011529  \n",
            "Customer Type_Loyal Customer             0.085649  -0.118375        0.062075  \n",
            "Customer Type_disloyal Customer         -0.085649   0.118375       -0.062075  \n",
            "Type of Travel_Business travel           0.552054  -0.501034       -0.102526  \n",
            "Type of Travel_Personal Travel          -0.552054   0.501034        0.102526  \n",
            "Class_Business                           1.000000  -0.864790       -0.267821  \n",
            "Class_Eco                               -0.864790   1.000000       -0.252181  \n",
            "Class_Eco Plus                          -0.267821  -0.252181        1.000000  \n"
          ]
        }
      ]
    },
    {
      "cell_type": "markdown",
      "source": [
        "As we can see, some of the highest features correlating with customer satisfaction was inflight entertainment, ease of online booking, online support, and on-board service."
      ],
      "metadata": {
        "id": "rg5w23Gre8eX"
      }
    },
    {
      "cell_type": "markdown",
      "source": [
        "**Data Exploration/Data Cleaning:** After we reviewed our correlation data, we realized there were too many columns to keep track. As a result, we decided to  view just the columns with a positive correlation of 0.6 or higher."
      ],
      "metadata": {
        "id": "wZlebdTY7EiZ"
      }
    },
    {
      "cell_type": "code",
      "source": [
        "correlation_matrix = data.corr()\n",
        "\n",
        "print(\"Correlations greater than 0.6:\")\n",
        "for col in correlation_matrix.columns:\n",
        "    high_correlations = correlation_matrix.index[(correlation_matrix[col] > 0.6) & (correlation_matrix[col] < 1.0)].tolist()\n",
        "    for feature in high_correlations:\n",
        "        print(f\"{col} - {feature}: {correlation_matrix.loc[feature, col]}\")"
      ],
      "metadata": {
        "colab": {
          "base_uri": "https://localhost:8080/"
        },
        "id": "O003YEYq5zST",
        "outputId": "fff25ff4-d578-491b-cbee-93784bfa8151"
      },
      "execution_count": null,
      "outputs": [
        {
          "output_type": "stream",
          "name": "stdout",
          "text": [
            "Correlations greater than 0.6:\n",
            "Seat comfort - Food and drink: 0.716005330079167\n",
            "Food and drink - Seat comfort: 0.716005330079167\n",
            "Inflight wifi service - Ease of Online booking: 0.6010839726286293\n",
            "Inflight wifi service - Online boarding: 0.6317893175015127\n",
            "Online support - Ease of Online booking: 0.6176595422649229\n",
            "Online support - Online boarding: 0.6698707805057618\n",
            "Ease of Online booking - Inflight wifi service: 0.6010839726286293\n",
            "Ease of Online booking - Online support: 0.6176595422649229\n",
            "Ease of Online booking - Online boarding: 0.6843491483088882\n",
            "Baggage handling - Cleanliness: 0.63206068953451\n",
            "Cleanliness - Baggage handling: 0.63206068953451\n",
            "Online boarding - Inflight wifi service: 0.6317893175015127\n",
            "Online boarding - Online support: 0.6698707805057618\n",
            "Online boarding - Ease of Online booking: 0.6843491483088882\n",
            "Departure Delay in Minutes - Arrival Delay in Minutes: 0.9642930721244563\n",
            "Arrival Delay in Minutes - Departure Delay in Minutes: 0.9642930721244563\n"
          ]
        }
      ]
    },
    {
      "cell_type": "markdown",
      "source": [
        "After reviewing these correlations, we noticed there was a lot of correlation values between 0.6 to 0.7, so we decided not to intervene with those features. However, we did discover an outlier of 0.96 between the columns 'Departure Delay in Minutes' and 'Arrival Delay in Minutes'. This makes sense because if our departure time was delayed, then our arrival time would also be delayed as well. Therefore, we decided to drop one of the columns (Arrival Delay in Minutes)."
      ],
      "metadata": {
        "id": "2MMiY7EH7_7Z"
      }
    },
    {
      "cell_type": "code",
      "source": [
        "data = data.drop(['Arrival Delay in Minutes'],axis=1)"
      ],
      "metadata": {
        "id": "bV_7rfDJ8e65"
      },
      "execution_count": null,
      "outputs": []
    },
    {
      "cell_type": "markdown",
      "source": [
        "Data preparation for supervised learning techniques. Labels and features separated."
      ],
      "metadata": {
        "id": "o8LinaNkd-ad"
      }
    },
    {
      "cell_type": "code",
      "source": [
        "from numpy import ravel\n",
        "print(data.shape)\n",
        "data_labels_transformed = data['satisfaction_v2_satisfied']\n",
        "data_features_transformed = data.drop(['satisfaction_v2_satisfied'],axis=1)\n",
        "\n",
        "print(data_labels_transformed)\n",
        "\n",
        "print(data_features_transformed.head())\n",
        "print(data_features_transformed.shape)\n",
        "\n",
        "data_labels_transformed_ravel = ravel(data_labels_transformed)"
      ],
      "metadata": {
        "id": "jYYb3p3U7MY_",
        "colab": {
          "base_uri": "https://localhost:8080/"
        },
        "outputId": "ab9edd7f-b881-40c9-c720-4bff280ae889"
      },
      "execution_count": null,
      "outputs": [
        {
          "output_type": "stream",
          "name": "stdout",
          "text": [
            "(129484, 27)\n",
            "0         1\n",
            "1         1\n",
            "2         1\n",
            "3         1\n",
            "4         1\n",
            "         ..\n",
            "129875    1\n",
            "129876    0\n",
            "129877    0\n",
            "129878    0\n",
            "129879    0\n",
            "Name: satisfaction_v2_satisfied, Length: 129484, dtype: uint8\n",
            "   Age  Flight Distance  Seat comfort  Departure/Arrival time convenient  \\\n",
            "0   65              265             0                                  0   \n",
            "1   47             2464             0                                  0   \n",
            "2   15             2138             0                                  0   \n",
            "3   60              623             0                                  0   \n",
            "4   70              354             0                                  0   \n",
            "\n",
            "   Food and drink  Gate location  Inflight wifi service  \\\n",
            "0               0              2                      2   \n",
            "1               0              3                      0   \n",
            "2               0              3                      2   \n",
            "3               0              3                      3   \n",
            "4               0              3                      4   \n",
            "\n",
            "   Inflight entertainment  Online support  Ease of Online booking  \\\n",
            "0                       4               2                       3   \n",
            "1                       2               2                       3   \n",
            "2                       0               2                       2   \n",
            "3                       4               3                       1   \n",
            "4                       3               4                       2   \n",
            "\n",
            "   On-board service  Leg room service  Baggage handling  Checkin service  \\\n",
            "0                 3                 0                 3                5   \n",
            "1                 4                 4                 4                2   \n",
            "2                 3                 3                 4                4   \n",
            "3                 1                 0                 1                4   \n",
            "4                 2                 0                 2                4   \n",
            "\n",
            "   Cleanliness  Online boarding  Departure Delay in Minutes  Gender_Female  \\\n",
            "0            3                2                           0              1   \n",
            "1            3                2                         310              0   \n",
            "2            4                2                           0              1   \n",
            "3            1                3                           0              1   \n",
            "4            2                5                           0              1   \n",
            "\n",
            "   Gender_Male  Customer Type_Loyal Customer  Customer Type_disloyal Customer  \\\n",
            "0            0                             1                                0   \n",
            "1            1                             1                                0   \n",
            "2            0                             1                                0   \n",
            "3            0                             1                                0   \n",
            "4            0                             1                                0   \n",
            "\n",
            "   Type of Travel_Business travel  Type of Travel_Personal Travel  \\\n",
            "0                               0                               1   \n",
            "1                               0                               1   \n",
            "2                               0                               1   \n",
            "3                               0                               1   \n",
            "4                               0                               1   \n",
            "\n",
            "   Class_Business  Class_Eco  Class_Eco Plus  \n",
            "0               0          1               0  \n",
            "1               1          0               0  \n",
            "2               0          1               0  \n",
            "3               0          1               0  \n",
            "4               0          1               0  \n",
            "(129484, 26)\n"
          ]
        }
      ]
    },
    {
      "cell_type": "markdown",
      "metadata": {
        "id": "bsN6ehMAzToD"
      },
      "source": [
        "**Modeling:**\n",
        "\n",
        "We went ahead and tested our data on a decision tree. We used a grid search to find the best parameters and model to conduct a nested cross validation. We ended up with an average of about 73 to 75 percent."
      ]
    },
    {
      "cell_type": "code",
      "execution_count": null,
      "metadata": {
        "id": "mhgxrHFI-9Uk",
        "colab": {
          "base_uri": "https://localhost:8080/"
        },
        "outputId": "0e6232c2-14c1-49d3-95a2-d10954fc00f2"
      },
      "outputs": [
        {
          "output_type": "stream",
          "name": "stdout",
          "text": [
            "Average Nested Cross Validation Decision Tree Accuracy: 75.18838271869278\n"
          ]
        }
      ],
      "source": [
        "from sklearn.model_selection import train_test_split\n",
        "from sklearn.tree import DecisionTreeClassifier\n",
        "from sklearn.metrics import accuracy_score\n",
        "from sklearn import tree\n",
        "from sklearn.model_selection import GridSearchCV\n",
        "from sklearn.model_selection import cross_val_score\n",
        "\n",
        "clf = DecisionTreeClassifier(criterion='entropy')\n",
        "\n",
        "params = {\"max_depth\": [10,20,30,40,50]}\n",
        "\n",
        "grid_search = GridSearchCV(clf, params, cv=5, scoring='accuracy')\n",
        "\n",
        "nested_score = cross_val_score(grid_search, data_features_transformed, data_labels_transformed, cv=5)\n",
        "\n",
        "print(\"Average Nested Cross Validation Decision Tree Accuracy:\", nested_score.mean()*100)"
      ]
    },
    {
      "cell_type": "markdown",
      "source": [
        "**Modeling:**\n",
        "\n",
        "Naive Bayes classifer. Another model to see accuracy. Typically around 70%"
      ],
      "metadata": {
        "id": "hXXesQQ_LmFm"
      }
    },
    {
      "cell_type": "code",
      "source": [
        "from sklearn.naive_bayes import GaussianNB\n",
        "\n",
        "clf = GaussianNB()\n",
        "\n",
        "scores = cross_val_score(clf, data_features_transformed, data_labels_transformed_ravel, cv=5)\n",
        "accuracy = scores.mean()\n",
        "print(\"Average Naive Bayes Accuracy:\", accuracy*100)"
      ],
      "metadata": {
        "id": "FmhD0NkewqNy",
        "colab": {
          "base_uri": "https://localhost:8080/"
        },
        "outputId": "3e791097-59c0-44b1-f2b1-b0e660fddf87"
      },
      "execution_count": null,
      "outputs": [
        {
          "output_type": "stream",
          "name": "stdout",
          "text": [
            "Average Naive Bayes Accuracy: 70.24729170856018\n"
          ]
        }
      ]
    },
    {
      "cell_type": "markdown",
      "source": [
        "**Modeling:**\n",
        "\n",
        "Random forest classifer. A more complex model to test accuracy. Typically around 74%."
      ],
      "metadata": {
        "id": "6JriaQorL4IK"
      }
    },
    {
      "cell_type": "code",
      "source": [
        "from sklearn.ensemble import RandomForestClassifier\n",
        "\n",
        "clf = RandomForestClassifier()\n",
        "param_grid = [\n",
        "  {'n_estimators': [50, 100, 150]}\n",
        "    ]\n",
        "grid_search = GridSearchCV(clf, param_grid, cv=5)\n",
        "\n",
        "scores = cross_val_score(grid_search, data_features_transformed, data_labels_transformed_ravel, cv=5)\n",
        "accuracy = scores.mean()\n",
        "print('Average Ensemble Random Forest Accuracy:', accuracy *100)"
      ],
      "metadata": {
        "id": "yWl5SS1X4zGz",
        "colab": {
          "base_uri": "https://localhost:8080/"
        },
        "outputId": "7b1cc1fc-72fd-4869-91ce-eae91172651e"
      },
      "execution_count": null,
      "outputs": [
        {
          "output_type": "stream",
          "name": "stdout",
          "text": [
            "Average Ensemble Random Forest Accuracy: 74.94354262004815\n"
          ]
        }
      ]
    },
    {
      "cell_type": "markdown",
      "source": [
        "**Modeling:**\n",
        "\n",
        "AdaBoost classifer to see how adjusting weight will affect accuracy. Typically around 78%"
      ],
      "metadata": {
        "id": "PS1ZfWeEL-m5"
      }
    },
    {
      "cell_type": "code",
      "source": [
        "from sklearn.ensemble import AdaBoostClassifier\n",
        "from sklearn.metrics import classification_report\n",
        "from sklearn.model_selection import cross_val_predict\n",
        "\n",
        "clf = AdaBoostClassifier()\n",
        "param_grid = [\n",
        "  {'n_estimators': [50, 100, 150]}\n",
        "    ]\n",
        "\n",
        "grid_search = GridSearchCV(clf, param_grid, cv=5)\n",
        "y_pred = cross_val_predict(grid_search, data_features_transformed, data_labels_transformed_ravel, cv=5)\n",
        "accuracy = accuracy_score(data_labels_transformed_ravel, y_pred)\n",
        "print('Average AdaBoost Accuracy:', accuracy *100 )\n",
        "class_report = classification_report(data_labels_transformed_ravel, y_pred)\n",
        "print(\"Classification Report:\\n\", class_report)"
      ],
      "metadata": {
        "id": "D6jvVfqqn_Be",
        "colab": {
          "base_uri": "https://localhost:8080/"
        },
        "outputId": "65781714-6994-4a21-c316-cc9e2c76ca0a"
      },
      "execution_count": null,
      "outputs": [
        {
          "output_type": "stream",
          "name": "stdout",
          "text": [
            "Average AdaBoost Accuracy: 78.30079392048438\n",
            "Classification Report:\n",
            "               precision    recall  f1-score   support\n",
            "\n",
            "           0       0.76      0.75      0.76     58603\n",
            "           1       0.80      0.81      0.80     70881\n",
            "\n",
            "    accuracy                           0.78    129484\n",
            "   macro avg       0.78      0.78      0.78    129484\n",
            "weighted avg       0.78      0.78      0.78    129484\n",
            "\n"
          ]
        }
      ]
    },
    {
      "cell_type": "markdown",
      "metadata": {
        "id": "p9M_yRKVG4rK"
      },
      "source": [
        "**Data Exploration / Feature Engineering:**\n",
        "\n",
        "After trying several other models, we ran into a roadblock of improving our accuracy further. **We decided to go back to square one and explore our dataset some more to make up for our lack of feature engineering.** We failed to notice an important feature called 'Customer Type' that stated whether a customer was loyal or disloyal to the airline. We found that 82% of the records were loyal customers, and only 18% were disloyal customers. It was at this point that we realized the possibility of bias taking place in the data set, and we decided to investigate.\n",
        "\n",
        "First, we wanted to contrast customer satisfaction between loyal and disloyal customers.\n",
        "\n",
        "Second, if there was a huge gap between these percentages, then we wanted to see what would happen if we did a 50/50 split of data between disloyal and loyal before we modeled the data."
      ]
    },
    {
      "cell_type": "code",
      "source": [
        "# Separate the loyal and disloyal customers\n",
        "print(data.shape)\n",
        "loyal_customers = data[data['Customer Type_Loyal Customer'] == 1]\n",
        "disloyal_customers = data[data['Customer Type_disloyal Customer'] == 1]\n",
        "\n",
        "# Randomly sample the loyal customers to match the number of disloyal customers\n",
        "num_disloyal = len(disloyal_customers)\n",
        "balanced_loyal_customers = loyal_customers.sample(n=num_disloyal)\n",
        "\n",
        "loyal_satisfied = balanced_loyal_customers[balanced_loyal_customers['satisfaction_v2_satisfied']==1]\n",
        "disloyal_satisfied = disloyal_customers[disloyal_customers['satisfaction_v2_satisfied']==1]\n",
        "print('How likely to be satisfied if loyal customer: ',len(loyal_satisfied)/len(balanced_loyal_customers) * 100)\n",
        "print('How likely to be satisfied if disloyal customer: ',len(disloyal_satisfied)/len(disloyal_customers) * 100)\n",
        "\n",
        "\n"
      ],
      "metadata": {
        "colab": {
          "base_uri": "https://localhost:8080/"
        },
        "id": "uxmeeJYs_kSx",
        "outputId": "f103ba9a-9166-465d-abc0-c5ac0d5e393f"
      },
      "execution_count": null,
      "outputs": [
        {
          "output_type": "stream",
          "name": "stdout",
          "text": [
            "(129484, 27)\n",
            "How likely to be satisfied if loyal customer:  61.49953613898963\n",
            "How likely to be satisfied if disloyal customer:  23.985831154592223\n"
          ]
        }
      ]
    },
    {
      "cell_type": "markdown",
      "source": [
        "We discovered that loyal customers leaned towards being more satisfied with a 60% versus disloyal customers having a 24% airline satisfaction rating. With this knowledge, we confirmed our initial hypothesis of existing bias.\n",
        "\n",
        "As a result, we went ahead and did a 50/50 split on loyal/disloyal customers before modeling our data."
      ],
      "metadata": {
        "id": "3qexpRIrDcx4"
      }
    },
    {
      "cell_type": "code",
      "execution_count": null,
      "metadata": {
        "id": "Koqz6YndIQBe",
        "colab": {
          "base_uri": "https://localhost:8080/"
        },
        "outputId": "2e4762aa-bdb7-48f0-872f-f3a101e63116"
      },
      "outputs": [
        {
          "output_type": "stream",
          "name": "stdout",
          "text": [
            "   Age  Flight Distance  Seat comfort  Departure/Arrival time convenient  \\\n",
            "0   36             2035             4                                  4   \n",
            "1   39             1915             2                                  2   \n",
            "2   28             2642             3                                  3   \n",
            "3   59             1347             2                                  2   \n",
            "4   58             2250             3                                  3   \n",
            "\n",
            "   Food and drink  Gate location  Inflight wifi service  \\\n",
            "0               4              3                      4   \n",
            "1               2              3                      1   \n",
            "2               3              2                      1   \n",
            "3               2              2                      4   \n",
            "4               3              4                      4   \n",
            "\n",
            "   Inflight entertainment  Online support  Ease of Online booking  \\\n",
            "0                       4               4                       4   \n",
            "1                       2               1                       1   \n",
            "2                       3               1                       1   \n",
            "3                       2               4                       4   \n",
            "4                       3               4                       4   \n",
            "\n",
            "   On-board service  Leg room service  Baggage handling  Checkin service  \\\n",
            "0                 5                 1                 5                3   \n",
            "1                 4                 4                 3                1   \n",
            "2                 5                 2                 4                4   \n",
            "3                 1                 5                 3                2   \n",
            "4                 5                 2                 5                5   \n",
            "\n",
            "   Cleanliness  Online boarding  Departure Delay in Minutes  \\\n",
            "0            3                4                           0   \n",
            "1            3                1                           2   \n",
            "2            5                1                          30   \n",
            "3            2                4                           0   \n",
            "4            4                4                          12   \n",
            "\n",
            "   satisfaction_v2_satisfied  Gender_Female  Gender_Male  \\\n",
            "0                          0              1            0   \n",
            "1                          0              1            0   \n",
            "2                          0              1            0   \n",
            "3                          0              0            1   \n",
            "4                          0              1            0   \n",
            "\n",
            "   Customer Type_Loyal Customer  Customer Type_disloyal Customer  \\\n",
            "0                             0                                1   \n",
            "1                             0                                1   \n",
            "2                             0                                1   \n",
            "3                             0                                1   \n",
            "4                             0                                1   \n",
            "\n",
            "   Type of Travel_Business travel  Type of Travel_Personal Travel  \\\n",
            "0                               1                               0   \n",
            "1                               1                               0   \n",
            "2                               1                               0   \n",
            "3                               1                               0   \n",
            "4                               1                               0   \n",
            "\n",
            "   Class_Business  Class_Eco  Class_Eco Plus  \n",
            "0               0          0               1  \n",
            "1               1          0               0  \n",
            "2               1          0               0  \n",
            "3               1          0               0  \n",
            "4               1          0               0  \n",
            "(47428, 27)\n"
          ]
        }
      ],
      "source": [
        "# Concatenate the balanced data to create a new DataFrame\n",
        "data = pd.concat([balanced_loyal_customers, disloyal_customers])\n",
        "\n",
        "# Shuffle the new DataFrame\n",
        "data = data.sample(frac=1).reset_index(drop=True)\n",
        "print(data.head())\n",
        "print(data.shape)\n",
        "\n",
        "\n",
        "data_labels = data['satisfaction_v2_satisfied']\n",
        "data_features = data.drop(['satisfaction_v2_satisfied'],axis=1)\n",
        "\n",
        "data_labels_ravel = ravel(data_labels)"
      ]
    },
    {
      "cell_type": "markdown",
      "metadata": {
        "id": "uv-0CcMBQwvu"
      },
      "source": [
        "**Modeling:**\n",
        "\n",
        "We tried the basic decision tree model again to see if we improved our accuracy. Our accuracy ended up improving to the lower end of the 90% range."
      ]
    },
    {
      "cell_type": "code",
      "execution_count": null,
      "metadata": {
        "id": "aX8XQPZ6Igsy",
        "colab": {
          "base_uri": "https://localhost:8080/"
        },
        "outputId": "b956d0d3-6f57-419c-8f6e-dd02a3fa360a"
      },
      "outputs": [
        {
          "output_type": "stream",
          "name": "stdout",
          "text": [
            "Average Nested Cross Validation Decision Tree Accuracy: 93.54388938847372\n"
          ]
        }
      ],
      "source": [
        "clf = DecisionTreeClassifier(criterion='entropy')\n",
        "\n",
        "params = {\"max_depth\": [10,20,30,40,50]}\n",
        "\n",
        "grid_search = GridSearchCV(clf, params, cv=5, scoring='accuracy')\n",
        "\n",
        "nested_score = cross_val_score(grid_search, data_features, data_labels, cv=5)\n",
        "\n",
        "print(\"Average Nested Cross Validation Decision Tree Accuracy:\", nested_score.mean()*100)"
      ]
    },
    {
      "cell_type": "markdown",
      "metadata": {
        "id": "IThPw4OuRDHf"
      },
      "source": [
        "**Modeling:**\n",
        "\n",
        "As seen above our accuracy is improving. Let's see if this trend continue. We then used Naive Bayes to see if another model would confirm our accuracy. Our Naive Bayes accuracy also improved to the lower end of the 80% range. Traditionally this model is low on accuracy."
      ]
    },
    {
      "cell_type": "code",
      "execution_count": null,
      "metadata": {
        "id": "EsKd9cIpRL5t",
        "colab": {
          "base_uri": "https://localhost:8080/"
        },
        "outputId": "e41b689c-9235-4bf4-e463-144d3229bea2"
      },
      "outputs": [
        {
          "output_type": "stream",
          "name": "stdout",
          "text": [
            "Average Naive Bayes Accuracy: 82.02960454109828\n"
          ]
        }
      ],
      "source": [
        "data_labels_transformed_ravel = ravel(data_labels_transformed)\n",
        "clf = GaussianNB()\n",
        "\n",
        "scores = cross_val_score(clf, data_features, data_labels_ravel, cv=5)\n",
        "accuracy = scores.mean()\n",
        "print(\"Average Naive Bayes Accuracy:\", accuracy*100)"
      ]
    },
    {
      "cell_type": "markdown",
      "source": [
        "**Modeling:**\n",
        "\n",
        "Random forest classifier again. Typically around 95%. This turns out to be the highest accuracy model yet."
      ],
      "metadata": {
        "id": "XjkaN9dN357d"
      }
    },
    {
      "cell_type": "code",
      "source": [
        "clf = RandomForestClassifier()\n",
        "param_grid = [\n",
        "  {'n_estimators': [50, 100, 150]}\n",
        "    ]\n",
        "grid_search = GridSearchCV(clf, param_grid, cv=5)\n",
        "\n",
        "scores = cross_val_score(grid_search, data_features, data_labels_ravel, cv=5)\n",
        "accuracy = scores.mean()\n",
        "print('Average Ensemble Random Forest Accuracy:', accuracy *100)"
      ],
      "metadata": {
        "id": "4DJwmQCS6qSk",
        "colab": {
          "base_uri": "https://localhost:8080/"
        },
        "outputId": "f54499ef-28c4-42a0-d3a5-7f578f4aeaf6"
      },
      "execution_count": null,
      "outputs": [
        {
          "output_type": "stream",
          "name": "stdout",
          "text": [
            "Average Ensemble Random Forest Accuracy: 94.81107569004668\n"
          ]
        }
      ]
    },
    {
      "cell_type": "markdown",
      "source": [
        "**Modeling:**\n",
        "\n",
        "AdaBoost classifer again. This model had the highest accuracy on the previous dataset. Typically around 90% accuracy."
      ],
      "metadata": {
        "id": "Wt5l-6TYMOZ5"
      }
    },
    {
      "cell_type": "code",
      "source": [
        "clf = AdaBoostClassifier()\n",
        "param_grid = [\n",
        "  {'n_estimators': [50, 100, 150]}\n",
        "    ]\n",
        "\n",
        "grid_search = GridSearchCV(clf, param_grid, cv=5)\n",
        "y_pred = cross_val_predict(grid_search, data_features, data_labels_ravel, cv=5)\n",
        "accuracy = accuracy_score(data_labels_ravel, y_pred)\n",
        "print('Average AdaBoost Accuracy:', accuracy *100)\n",
        "class_report = classification_report(data_labels_ravel, y_pred)\n",
        "print(\"Classification Report:\\n\", class_report)"
      ],
      "metadata": {
        "id": "ihGYbL_50Veg",
        "colab": {
          "base_uri": "https://localhost:8080/"
        },
        "outputId": "a8ec26e5-59b4-402d-af3b-ae9e227ea9fa"
      },
      "execution_count": null,
      "outputs": [
        {
          "output_type": "stream",
          "name": "stdout",
          "text": [
            "Average AdaBoost Accuracy: 90.65109218183352\n",
            "Classification Report:\n",
            "               precision    recall  f1-score   support\n",
            "\n",
            "           0       0.91      0.93      0.92     27156\n",
            "           1       0.90      0.88      0.89     20272\n",
            "\n",
            "    accuracy                           0.91     47428\n",
            "   macro avg       0.91      0.90      0.90     47428\n",
            "weighted avg       0.91      0.91      0.91     47428\n",
            "\n"
          ]
        }
      ]
    },
    {
      "cell_type": "markdown",
      "source": [
        "**Modeling:**\n",
        "\n",
        "Since we knew this modified dataset was achieving higher results, we wanted to try the knn model, which requires scaling and reducing the dimensionality. This model takes a while to run since it tests many parameters. About 90% accuracy, which aligns with most of our other models."
      ],
      "metadata": {
        "id": "f9nDbiChPTRg"
      }
    },
    {
      "cell_type": "code",
      "source": [
        "from sklearn.preprocessing import StandardScaler\n",
        "from sklearn.decomposition import PCA\n",
        "from sklearn.neighbors import KNeighborsClassifier\n",
        "from sklearn.pipeline import Pipeline\n",
        "\n",
        "\n",
        "scaler = StandardScaler()\n",
        "pca = PCA()\n",
        "neigh = KNeighborsClassifier()\n",
        "pipe = Pipeline(steps=[('scaler',scaler), ('pca',pca), ('knn',neigh)])\n",
        "\n",
        "param_grid = {\n",
        "    'pca__n_components': list(range(10, 20)),\n",
        "    'knn__n_neighbors': list(range(10, 20))\n",
        "}\n",
        "\n",
        "clf = GridSearchCV(pipe, param_grid, cv=5)\n",
        "nested_score = cross_val_score(clf, data_features, data_labels_ravel, cv=5)\n",
        "print(\"Average KNN Accuracy:\", nested_score.mean()*100)\n"
      ],
      "metadata": {
        "colab": {
          "base_uri": "https://localhost:8080/"
        },
        "id": "e0s7pOPoN4sx",
        "outputId": "0e3c7da7-0b7b-4147-fd53-9f4162779049"
      },
      "execution_count": null,
      "outputs": [
        {
          "output_type": "stream",
          "name": "stdout",
          "text": [
            "Average KNN Accuracy: 90.33481430504195\n"
          ]
        }
      ]
    },
    {
      "cell_type": "markdown",
      "source": [
        "**Results/Conclusions**\n",
        "\n",
        "Modeling Results Approximate:\n",
        "\n",
        "Without a 50/50 split on loyal/disloyal customers:\n",
        "\n",
        "Decision Tree: 74%\n",
        "\n",
        "Naive Bayes: 70%\n",
        "\n",
        "Random Forest: 74%\n",
        "\n",
        "AdaBoost: 78%\n",
        "\n",
        "\n",
        "\n",
        "\n",
        "With a 50/50 split on loyal/disloyal customers:\n",
        "\n",
        "Decision Tree: 93%\n",
        "\n",
        "Naive Bayes: 82%\n",
        "\n",
        "Random Forest: 95%\n",
        "\n",
        "Adaboost: 90%\n",
        "\n",
        "KNN: 90%\n",
        "\n",
        "\n",
        "\n",
        "\n",
        "In conclusion, we tried the same 4 models on two separate datasets. We were able to perform data cleaning on values that were missing in the 'Arrival Delay in Minutes' column and got rid of egregious outliers in the continuous values of the features 'Arrival Delay in Minutes''. Since our dataset was large, we realized that most of these actions wouldn't have affected our results drastically. The one-hot encoding scheme was used for our categorial features since supervised learning models were used. After splitting our data labels and features, we started testing models with our initial dataset but became unsatisfied with our results. Out of the 4 models, AdaBoost came in first with random forest and decision trees tying, and Naive Bayes came in last. It appears adjusting the weights based on each instance worked best with our data.\n",
        "\n",
        "\n",
        "However, we still weren't satisfied with the results, so we investigated our customer loyalty column. We began sampling the loyal and disloyal customers and discovered that loyal customers were more likely to be satisfied with their flight experience (60%) versus disloyal customers (24%).  Following this, we did a 50/50 split between loyal and disloyal customers and it greatly improved the accuracy of all the models. Note, this new dataset did include only about 47,000 rows-- which was still a lot to work with. From the models that we tested, we concluded that the Random Forest model with the 50/50 split on customer loyalty would ultimately be the final model selected since it yielded a final accuracy of 95%.\n"
      ],
      "metadata": {
        "id": "KMKRklbPvYOm"
      }
    }
  ],
  "metadata": {
    "colab": {
      "provenance": []
    },
    "kernelspec": {
      "display_name": "Python 3",
      "name": "python3"
    },
    "language_info": {
      "name": "python"
    }
  },
  "nbformat": 4,
  "nbformat_minor": 0
}